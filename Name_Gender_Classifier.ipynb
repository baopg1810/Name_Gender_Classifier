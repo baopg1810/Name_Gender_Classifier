{
 "cells": [
  {
   "cell_type": "code",
   "execution_count": 3,
   "metadata": {
    "colab": {
     "base_uri": "https://localhost:8080/"
    },
    "id": "nGM3fArAUPfH",
    "outputId": "ce108127-1d68-4b4c-8c30-ffca0ae0ec81"
   },
   "outputs": [],
   "source": [
    "import pandas as pd\n",
    "from sklearn.feature_extraction.text import TfidfVectorizer\n",
    "from sklearn.linear_model import LogisticRegression\n",
    "from sklearn.metrics import classification_report, confusion_matrix, accuracy_score, f1_score, precision_score, recall_score\n",
    "from sklearn.model_selection import train_test_split\n",
    "from sklearn.svm import SVC\n",
    "from sklearn.naive_bayes import GaussianNB\n",
    "from sklearn.tree import DecisionTreeClassifier\n",
    "import numpy as np\n",
    "import seaborn as sns\n",
    "import matplotlib.pyplot as plt\n",
    "import warnings\n",
    "warnings.filterwarnings(\"ignore\")"
   ]
  },
  {
   "cell_type": "code",
   "execution_count": 4,
   "metadata": {
    "colab": {
     "base_uri": "https://localhost:8080/"
    },
    "id": "NCU-TEJeZ7qZ",
    "outputId": "2ec95545-4300-40a8-c295-ffc47189c30d"
   },
   "outputs": [
    {
     "data": {
      "text/html": [
       "<div>\n",
       "<style scoped>\n",
       "    .dataframe tbody tr th:only-of-type {\n",
       "        vertical-align: middle;\n",
       "    }\n",
       "\n",
       "    .dataframe tbody tr th {\n",
       "        vertical-align: top;\n",
       "    }\n",
       "\n",
       "    .dataframe thead th {\n",
       "        text-align: right;\n",
       "    }\n",
       "</style>\n",
       "<table border=\"1\" class=\"dataframe\">\n",
       "  <thead>\n",
       "    <tr style=\"text-align: right;\">\n",
       "      <th></th>\n",
       "      <th>Fullname</th>\n",
       "      <th>Gender</th>\n",
       "    </tr>\n",
       "  </thead>\n",
       "  <tbody>\n",
       "    <tr>\n",
       "      <th>0</th>\n",
       "      <td>Nguyễn Doãn Nam</td>\n",
       "      <td>Nam</td>\n",
       "    </tr>\n",
       "    <tr>\n",
       "      <th>1</th>\n",
       "      <td>Nguyễn Vũ Đức Bằng</td>\n",
       "      <td>Nam</td>\n",
       "    </tr>\n",
       "    <tr>\n",
       "      <th>2</th>\n",
       "      <td>Tạ Khánh Tùng</td>\n",
       "      <td>Nam</td>\n",
       "    </tr>\n",
       "    <tr>\n",
       "      <th>3</th>\n",
       "      <td>Nguyễn Sinh Phúc</td>\n",
       "      <td>Nam</td>\n",
       "    </tr>\n",
       "    <tr>\n",
       "      <th>4</th>\n",
       "      <td>Vũ Minh Đạo</td>\n",
       "      <td>Nam</td>\n",
       "    </tr>\n",
       "    <tr>\n",
       "      <th>...</th>\n",
       "      <td>...</td>\n",
       "      <td>...</td>\n",
       "    </tr>\n",
       "    <tr>\n",
       "      <th>5480</th>\n",
       "      <td>Trần Hiển Vinh</td>\n",
       "      <td>Nam</td>\n",
       "    </tr>\n",
       "    <tr>\n",
       "      <th>5481</th>\n",
       "      <td>Trần Thanh Bình</td>\n",
       "      <td>Nam</td>\n",
       "    </tr>\n",
       "    <tr>\n",
       "      <th>5482</th>\n",
       "      <td>Trần Nam Thắng</td>\n",
       "      <td>Nam</td>\n",
       "    </tr>\n",
       "    <tr>\n",
       "      <th>5483</th>\n",
       "      <td>Nguyễn Bá Tùng</td>\n",
       "      <td>Nam</td>\n",
       "    </tr>\n",
       "    <tr>\n",
       "      <th>5484</th>\n",
       "      <td>Hà Đức Hạnh</td>\n",
       "      <td>Nam</td>\n",
       "    </tr>\n",
       "  </tbody>\n",
       "</table>\n",
       "<p>5485 rows × 2 columns</p>\n",
       "</div>"
      ],
      "text/plain": [
       "                Fullname Gender\n",
       "0        Nguyễn Doãn Nam    Nam\n",
       "1     Nguyễn Vũ Đức Bằng    Nam\n",
       "2          Tạ Khánh Tùng    Nam\n",
       "3       Nguyễn Sinh Phúc    Nam\n",
       "4            Vũ Minh Đạo    Nam\n",
       "...                  ...    ...\n",
       "5480      Trần Hiển Vinh    Nam\n",
       "5481     Trần Thanh Bình    Nam\n",
       "5482      Trần Nam Thắng    Nam\n",
       "5483      Nguyễn Bá Tùng    Nam\n",
       "5484         Hà Đức Hạnh    Nam\n",
       "\n",
       "[5485 rows x 2 columns]"
      ]
     },
     "execution_count": 4,
     "metadata": {},
     "output_type": "execute_result"
    }
   ],
   "source": [
    "data = pd.read_excel(\"DSSVK17.xlsx\")\n",
    "data"
   ]
  },
  {
   "cell_type": "code",
   "execution_count": 5,
   "metadata": {},
   "outputs": [],
   "source": [
    "data['Gender'] = data['Gender'].replace({'Nam': 1, 'Nữ': 0})"
   ]
  },
  {
   "cell_type": "code",
   "execution_count": 6,
   "metadata": {},
   "outputs": [
    {
     "data": {
      "text/html": [
       "<div>\n",
       "<style scoped>\n",
       "    .dataframe tbody tr th:only-of-type {\n",
       "        vertical-align: middle;\n",
       "    }\n",
       "\n",
       "    .dataframe tbody tr th {\n",
       "        vertical-align: top;\n",
       "    }\n",
       "\n",
       "    .dataframe thead th {\n",
       "        text-align: right;\n",
       "    }\n",
       "</style>\n",
       "<table border=\"1\" class=\"dataframe\">\n",
       "  <thead>\n",
       "    <tr style=\"text-align: right;\">\n",
       "      <th></th>\n",
       "      <th>Fullname</th>\n",
       "      <th>Gender</th>\n",
       "    </tr>\n",
       "  </thead>\n",
       "  <tbody>\n",
       "    <tr>\n",
       "      <th>0</th>\n",
       "      <td>Nguyễn Doãn Nam</td>\n",
       "      <td>1</td>\n",
       "    </tr>\n",
       "    <tr>\n",
       "      <th>1</th>\n",
       "      <td>Nguyễn Vũ Đức Bằng</td>\n",
       "      <td>1</td>\n",
       "    </tr>\n",
       "    <tr>\n",
       "      <th>2</th>\n",
       "      <td>Tạ Khánh Tùng</td>\n",
       "      <td>1</td>\n",
       "    </tr>\n",
       "    <tr>\n",
       "      <th>3</th>\n",
       "      <td>Nguyễn Sinh Phúc</td>\n",
       "      <td>1</td>\n",
       "    </tr>\n",
       "    <tr>\n",
       "      <th>4</th>\n",
       "      <td>Vũ Minh Đạo</td>\n",
       "      <td>1</td>\n",
       "    </tr>\n",
       "  </tbody>\n",
       "</table>\n",
       "</div>"
      ],
      "text/plain": [
       "             Fullname  Gender\n",
       "0     Nguyễn Doãn Nam       1\n",
       "1  Nguyễn Vũ Đức Bằng       1\n",
       "2       Tạ Khánh Tùng       1\n",
       "3    Nguyễn Sinh Phúc       1\n",
       "4         Vũ Minh Đạo       1"
      ]
     },
     "execution_count": 6,
     "metadata": {},
     "output_type": "execute_result"
    }
   ],
   "source": [
    "data.head()"
   ]
  },
  {
   "cell_type": "code",
   "execution_count": 7,
   "metadata": {
    "colab": {
     "base_uri": "https://localhost:8080/"
    },
    "id": "3VLgPxYZ0-k4",
    "outputId": "ea421bbd-7812-4e9d-b5d1-93df694b3565"
   },
   "outputs": [
    {
     "name": "stdout",
     "output_type": "stream",
     "text": [
      "Number of males, females and others in data: 4021, 1464, 0\n",
      "Length of data: 5485\n"
     ]
    }
   ],
   "source": [
    "#Number of males, females and others in data, and the length of data\n",
    "male = 0\n",
    "female = 0\n",
    "other = 0\n",
    "for line in data[\"Gender\"]:\n",
    "  if line == 1:\n",
    "    male += 1\n",
    "  elif line == 0:\n",
    "    female += 1\n",
    "  else:\n",
    "    print(line)\n",
    "    other += 1\n",
    "print(\"Number of males, females and others in data: %s, %s, %s\" % (male, female, other))\n",
    "print(\"Length of data: %s\" % len(data[\"Gender\"]))"
   ]
  },
  {
   "cell_type": "code",
   "execution_count": 8,
   "metadata": {
    "colab": {
     "base_uri": "https://localhost:8080/"
    },
    "id": "6YyeJhmU3MV0",
    "outputId": "c80206ec-d2b8-42d4-8ac3-b4e603d9dfb5"
   },
   "outputs": [
    {
     "name": "stdout",
     "output_type": "stream",
     "text": [
      "                Fullname  Gender\n",
      "0        Nguyễn Doãn Nam       1\n",
      "1     Nguyễn Vũ Đức Bằng       1\n",
      "2          Tạ Khánh Tùng       1\n",
      "3       Nguyễn Sinh Phúc       1\n",
      "4            Vũ Minh Đạo       1\n",
      "...                  ...     ...\n",
      "5477         Chu Thế Văn       1\n",
      "5480      Trần Hiển Vinh       1\n",
      "5482      Trần Nam Thắng       1\n",
      "5483      Nguyễn Bá Tùng       1\n",
      "5484         Hà Đức Hạnh       1\n",
      "\n",
      "[4007 rows x 2 columns]\n"
     ]
    }
   ],
   "source": [
    "name_counts = data['Fullname'].value_counts()\n",
    "unique_names = name_counts[name_counts == 1].index\n",
    "data = data[data['Fullname'].isin(unique_names)]\n",
    "print(data)"
   ]
  },
  {
   "cell_type": "markdown",
   "metadata": {
    "id": "lBFcSN0sxy_y"
   },
   "source": [
    "Tách data ra làm 2 phần: X tương ứng với họ và tên và y tương ứng với giá trị đã quy định cho giới tính, 0 là nữ giới, và 1 ứng với nam giới"
   ]
  },
  {
   "cell_type": "code",
   "execution_count": 9,
   "metadata": {
    "id": "uARZwlP6xqfs"
   },
   "outputs": [],
   "source": [
    "X = data[\"Fullname\"]\n",
    "y = data[\"Gender\"]"
   ]
  },
  {
   "cell_type": "code",
   "execution_count": 10,
   "metadata": {
    "colab": {
     "base_uri": "https://localhost:8080/"
    },
    "id": "VG0O4sEkqeNu",
    "outputId": "a50e31c9-3cc8-441a-c507-1d395bb1ec27"
   },
   "outputs": [
    {
     "name": "stdout",
     "output_type": "stream",
     "text": [
      "0          Nguyễn Doãn Nam\n",
      "1       Nguyễn Vũ Đức Bằng\n",
      "2            Tạ Khánh Tùng\n",
      "3         Nguyễn Sinh Phúc\n",
      "4              Vũ Minh Đạo\n",
      "               ...        \n",
      "5477           Chu Thế Văn\n",
      "5480        Trần Hiển Vinh\n",
      "5482        Trần Nam Thắng\n",
      "5483        Nguyễn Bá Tùng\n",
      "5484           Hà Đức Hạnh\n",
      "Name: Fullname, Length: 4007, dtype: object\n"
     ]
    }
   ],
   "source": [
    "print(X)"
   ]
  },
  {
   "cell_type": "code",
   "execution_count": 11,
   "metadata": {
    "colab": {
     "base_uri": "https://localhost:8080/"
    },
    "id": "4pOYDwnhqf0Z",
    "outputId": "9d637137-8c19-45b9-b2ed-b3d192a8ad1a"
   },
   "outputs": [
    {
     "name": "stdout",
     "output_type": "stream",
     "text": [
      "0       1\n",
      "1       1\n",
      "2       1\n",
      "3       1\n",
      "4       1\n",
      "       ..\n",
      "5477    1\n",
      "5480    1\n",
      "5482    1\n",
      "5483    1\n",
      "5484    1\n",
      "Name: Gender, Length: 4007, dtype: int64\n"
     ]
    }
   ],
   "source": [
    "print(y)"
   ]
  },
  {
   "cell_type": "markdown",
   "metadata": {
    "id": "SLOnqMyD8_3O"
   },
   "source": [
    "`Trước tiên, ta chia dữ liệu để xử lý các bước kế tiếp, tỉ lệ 80/20 tương ứng với data để train và data để test`"
   ]
  },
  {
   "cell_type": "code",
   "execution_count": 12,
   "metadata": {
    "id": "C5RASaao-cUF"
   },
   "outputs": [],
   "source": [
    "X_train, X_test, y_train, y_test = train_test_split(X, y, test_size=0.2, random_state=42, shuffle=False)"
   ]
  },
  {
   "cell_type": "code",
   "execution_count": 13,
   "metadata": {},
   "outputs": [],
   "source": [
    "vectorizer = TfidfVectorizer()\n",
    "X_tfidf = vectorizer.fit_transform(X)\n",
    "X_train_tfidf = vectorizer.fit_transform(X_train)\n",
    "X_test_tfidf = vectorizer.transform(X_test)"
   ]
  },
  {
   "cell_type": "code",
   "execution_count": 14,
   "metadata": {
    "colab": {
     "base_uri": "https://localhost:8080/"
    },
    "id": "6HQLUieq8InK",
    "outputId": "81f30d19-1424-4984-a829-addf9949f2d0"
   },
   "outputs": [
    {
     "name": "stdout",
     "output_type": "stream",
     "text": [
      "<class 'scipy.sparse._csr.csr_matrix'>\n"
     ]
    }
   ],
   "source": [
    "print(type(X_train_tfidf))"
   ]
  },
  {
   "cell_type": "markdown",
   "metadata": {
    "id": "zU8kiimlBa8P"
   },
   "source": [
    "##### `Huấn luyện và đánh giá mô hình qua các mô hình máy học`"
   ]
  },
  {
   "cell_type": "markdown",
   "metadata": {
    "id": "DdXYJJoF-6io"
   },
   "source": [
    "`Sử dụng Logistic Regression`"
   ]
  },
  {
   "cell_type": "code",
   "execution_count": 15,
   "metadata": {
    "colab": {
     "base_uri": "https://localhost:8080/"
    },
    "id": "SwYqiT561MDh",
    "outputId": "61407d3d-e568-4b80-8570-89e6244d0a2f"
   },
   "outputs": [
    {
     "name": "stdout",
     "output_type": "stream",
     "text": [
      "              precision    recall  f1-score   support\n",
      "\n",
      "           0    0.98065   0.82162   0.89412       185\n",
      "           1    0.94900   0.99514   0.97152       617\n",
      "\n",
      "    accuracy                        0.95511       802\n",
      "   macro avg    0.96482   0.90838   0.93282       802\n",
      "weighted avg    0.95630   0.95511   0.95366       802\n",
      "\n",
      "Precision score of using Logistic Regression: 0.9648202622525801\n",
      "Recall score of using Logistic Regression: 0.9083796924963862\n",
      "F1-score of using Logistic Regression: 0.9328183172002978\n"
     ]
    }
   ],
   "source": [
    "# 1. Train a logistic regression model\n",
    "from sklearn.metrics import accuracy_score\n",
    "lr_model = LogisticRegression(max_iter=10000000)\n",
    "lr_model.fit(X_train_tfidf, y_train)\n",
    "\n",
    "# Predict on the test set\n",
    "y_pred = lr_model.predict(X_test_tfidf)\n",
    "\n",
    "# Evaluate the model\n",
    "\n",
    "print(classification_report(y_test, y_pred, digits = 5))\n",
    "print(\"Precision score of using Logistic Regression:\", precision_score(y_test, y_pred, average='macro'))\n",
    "print(\"Recall score of using Logistic Regression:\", recall_score(y_test, y_pred, average='macro'))\n",
    "print(\"F1-score of using Logistic Regression:\", f1_score(y_test, y_pred, average='macro'))"
   ]
  },
  {
   "cell_type": "code",
   "execution_count": 16,
   "metadata": {
    "scrolled": true
   },
   "outputs": [
    {
     "name": "stdout",
     "output_type": "stream",
     "text": [
      "                       Name  Actual  Predicted\n",
      "4654         Trần Cao Thắng       1          1\n",
      "4800           Đào Ngọc Nam       1          1\n",
      "4623             Vũ Văn Anh       1          1\n",
      "5105          Lê Thanh Tùng       1          1\n",
      "5127           Phạm Huy Tấn       1          1\n",
      "5467         Hà Quang Thắng       1          1\n",
      "5203  Nguyễn Đặng Anh Cường       1          1\n"
     ]
    }
   ],
   "source": [
    "import pandas as pd\n",
    "\n",
    "df_test_results = pd.DataFrame({'Name': X_test,'Actual': y_test, 'Predicted': y_pred})\n",
    "\n",
    "# Sample 7 rows randomly\n",
    "df_test_sample = df_test_results.sample(7,random_state = 42)\n",
    "\n",
    "# Display the sampled rows\n",
    "print(df_test_sample)\n"
   ]
  },
  {
   "cell_type": "code",
   "execution_count": 17,
   "metadata": {
    "colab": {
     "base_uri": "https://localhost:8080/",
     "height": 564
    },
    "id": "FG1fwj3HD2Px",
    "outputId": "7175368b-0558-4b82-878c-97b773577277"
   },
   "outputs": [
    {
     "data": {
      "image/png": "[encoded data removed]",
      "text/plain": [
       "<Figure size 800x600 with 1 Axes>"
      ]
     },
     "metadata": {},
     "output_type": "display_data"
    }
   ],
   "source": [
    "plt.figure(figsize=(8, 6))\n",
    "cm = confusion_matrix(y_test, y_pred)\n",
    "sns.heatmap(cm, annot=True, fmt=\"d\", cmap=\"Blues\", cbar=False)\n",
    "plt.title(\"Confusion Matrix using Logistic Regression Classifier\")\n",
    "plt.xlabel(\"Predicted Labels\")\n",
    "plt.ylabel(\"True Labels\")\n",
    "plt.show()"
   ]
  },
  {
   "cell_type": "code",
   "execution_count": 22,
   "metadata": {},
   "outputs": [
    {
     "name": "stdout",
     "output_type": "stream",
     "text": [
      "              precision    recall  f1-score   support\n",
      "\n",
      "           0       0.95      0.91      0.93       185\n",
      "           1       0.97      0.99      0.98       617\n",
      "\n",
      "    accuracy                           0.97       802\n",
      "   macro avg       0.96      0.95      0.95       802\n",
      "weighted avg       0.97      0.97      0.97       802\n",
      "\n"
     ]
    }
   ],
   "source": [
    "print(classification_report(y_test, grid_predictions))"
   ]
  },
  {
   "cell_type": "code",
   "execution_count": 18,
   "metadata": {},
   "outputs": [
    {
     "name": "stdout",
     "output_type": "stream",
     "text": [
      "Trying model with C=0.1\n",
      "Model accuracy on test set: 0.8890274314214464\n",
      "\n",
      "Trying model with C=1\n",
      "Model accuracy on test set: 0.9551122194513716\n",
      "\n",
      "Trying model with C=10\n",
      "Model accuracy on test set: 0.970074812967581\n",
      "\n",
      "Trying model with C=100\n",
      "Model accuracy on test set: 0.9675810473815462\n",
      "\n"
     ]
    }
   ],
   "source": [
    "np.random.seed(42)\n",
    "C_values = [0.1, 1, 10, 100]\n",
    "\n",
    "for C in C_values:\n",
    "    print(f\"Trying model with C={C}\")\n",
    "    model = LogisticRegression(C=C).fit(X_train_tfidf, y_train)\n",
    "    print(f\"Model accuracy on test set: {model.score(X_test_tfidf, y_test)}\")\n",
    "    print(\"\")"
   ]
  },
  {
   "cell_type": "code",
   "execution_count": 19,
   "metadata": {},
   "outputs": [
    {
     "name": "stdout",
     "output_type": "stream",
     "text": [
      "Trying model with C=0.1\n",
      "Model accuracy on test set: 0.8890274314214464\n",
      "Cross-validation score: 87.12220696697706%\n",
      "\n",
      "Trying model with C=1\n",
      "Model accuracy on test set: 0.9551122194513716\n",
      "Cross-validation score: 94.63432554693168%\n",
      "\n",
      "Trying model with C=10\n",
      "Model accuracy on test set: 0.970074812967581\n",
      "Cross-validation score: 96.10667463675394%\n",
      "\n",
      "Trying model with C=100\n",
      "Model accuracy on test set: 0.9675810473815462\n",
      "Cross-validation score: 95.7822983116491%\n",
      "\n"
     ]
    }
   ],
   "source": [
    "from sklearn.model_selection import cross_val_score\n",
    "np.random.seed(42)\n",
    "C_values = [0.1, 1, 10, 100]\n",
    "for C in C_values:\n",
    "    print(f\"Trying model with C={C}\")\n",
    "    model = LogisticRegression(C=C).fit(X_train_tfidf, y_train)\n",
    "    print(f\"Model accuracy on test set: {model.score(X_test_tfidf, y_test)}\")\n",
    "    print(f\"Cross-validation score: {np.mean(cross_val_score(model, X_tfidf, y, cv=5)) * 100}%\")\n",
    "    print(\"\")"
   ]
  },
  {
   "cell_type": "markdown",
   "metadata": {},
   "source": [
    "# Đánh giá:\n",
    "- Khi giá trị của C giảm từ 1 xuống 0.1 độ chính xác trên tập kiểm tra giảm từ khoảng 94.63% xuống 88.90%. Điều này cho thấy rằng việc giảm giá trị của siêu tham số C đã làm suy giảm hiệu suất của mô hình trên tập kiểm tra.\n",
    "\n",
    "- Khi giá trị của C tăng từ 1 lên 10 Độ chính xác trên tập kiểm tra tăng từ khoảng 94.63% lên 96.01%. Điều này cho thấy rằng việc tăng giá trị của C đã cải thiện hiệu suất của mô hình trên tập kiểm tra.\n",
    "\n",
    "- Khi giá trị của C tăng từ 10 lên 100 Không có sự thay đổi đáng kể trong độ chính xác trên tập kiểm tra và kết quả cross-validation. Điều này có thể gợi ý rằng mô hình đã đạt đến điểm tối ưu đối với giá trị C trong khoảng từ 10 đến 100.\n"
   ]
  },
  {
   "cell_type": "markdown",
   "metadata": {
    "id": "d2r1kZkN_iT3"
   },
   "source": [
    "`Sử dụng SVM`"
   ]
  },
  {
   "cell_type": "code",
   "execution_count": 20,
   "metadata": {
    "colab": {
     "base_uri": "https://localhost:8080/"
    },
    "id": "Z9rKsiVi1ORq",
    "outputId": "e7e15658-9bf4-4684-f4b1-705a8a3bc7d8"
   },
   "outputs": [
    {
     "name": "stdout",
     "output_type": "stream",
     "text": [
      "              precision    recall  f1-score   support\n",
      "\n",
      "           0    0.96000   0.90811   0.93333       185\n",
      "           1    0.97289   0.98865   0.98071       617\n",
      "\n",
      "    accuracy                        0.97007       802\n",
      "   macro avg    0.96644   0.94838   0.95702       802\n",
      "weighted avg    0.96991   0.97007   0.96978       802\n",
      "\n",
      "Precision score of using SVM: 0.9664433811802233\n",
      "Recall score of using SVM: 0.94838144465373\n",
      "F1-score of using SVM 0.9570203644158628\n"
     ]
    }
   ],
   "source": [
    "#2. Train a SVM classifier\n",
    "svm_model = SVC()\n",
    "svm_model.fit(X_train_tfidf, y_train)\n",
    "\n",
    "# Predict on the test set\n",
    "y_pred = svm_model.predict(X_test_tfidf)\n",
    "\n",
    "# Evaluate the model\n",
    "print(classification_report(y_test, y_pred, digits = 5))\n",
    "print(\"Precision score of using SVM:\", precision_score(y_test, y_pred, average='macro'))\n",
    "print(\"Recall score of using SVM:\", recall_score(y_test, y_pred, average='macro'))\n",
    "print(\"F1-score of using SVM\", f1_score(y_test, y_pred, average='macro'))\n",
    "\n",
    "# Generate confusion matrix\n",
    "cm = confusion_matrix(y_test, y_pred)"
   ]
  },
  {
   "cell_type": "code",
   "execution_count": 21,
   "metadata": {
    "colab": {
     "base_uri": "https://localhost:8080/",
     "height": 564
    },
    "id": "UcldE6Xh1PtY",
    "outputId": "d73dd6fa-73d0-483d-93a8-84afe20c7116",
    "scrolled": false
   },
   "outputs": [
    {
     "data": {
      "image/png": "[encoded data removed]",
      "text/plain": [
       "<Figure size 800x600 with 1 Axes>"
      ]
     },
     "metadata": {},
     "output_type": "display_data"
    }
   ],
   "source": [
    "plt.figure(figsize=(8, 6))\n",
    "cm = confusion_matrix(y_test, y_pred)\n",
    "sns.heatmap(cm, annot=True, fmt=\"d\", cmap=\"Blues\", cbar=False)\n",
    "plt.title(\"Confusion Matrix using SVM Classifier\")\n",
    "plt.xlabel(\"Predicted Labels\")\n",
    "plt.ylabel(\"True Labels\")\n",
    "plt.show()"
   ]
  },
  {
   "cell_type": "code",
   "execution_count": 22,
   "metadata": {
    "scrolled": true
   },
   "outputs": [
    {
     "name": "stdout",
     "output_type": "stream",
     "text": [
      "Trying model with C=0.1\n",
      "Model accuracy on test set: 0.8977556109725686\n",
      "\n",
      "Trying model with C=1\n",
      "Model accuracy on test set: 0.970074812967581\n",
      "\n",
      "Trying model with C=10\n",
      "Model accuracy on test set: 0.9688279301745636\n",
      "\n",
      "Trying model with C=100\n",
      "Model accuracy on test set: 0.9688279301745636\n",
      "\n"
     ]
    }
   ],
   "source": [
    "np.random.seed(42)\n",
    "C_values = [0.1, 1, 10, 100]\n",
    "\n",
    "for C in C_values:\n",
    "    print(f\"Trying model with C={C}\")\n",
    "    model = SVC(C=C).fit(X_train_tfidf, y_train)\n",
    "    print(f\"Model accuracy on test set: {model.score(X_test_tfidf, y_test)}\")\n",
    "    print(\"\")\n"
   ]
  },
  {
   "cell_type": "code",
   "execution_count": 23,
   "metadata": {
    "scrolled": true
   },
   "outputs": [
    {
     "name": "stdout",
     "output_type": "stream",
     "text": [
      "Trying model with C=0.1\n",
      "Model accuracy on test set: 0.8977556109725686\n",
      "Cross-validation score: 87.69627118221923%\n",
      "\n",
      "Trying model with C=1\n",
      "Model accuracy on test set: 0.970074812967581\n",
      "Cross-validation score: 95.83223588967655%\n",
      "\n",
      "Trying model with C=10\n",
      "Model accuracy on test set: 0.9688279301745636\n",
      "Cross-validation score: 95.55776600944579%\n",
      "\n",
      "Trying model with C=100\n",
      "Model accuracy on test set: 0.9688279301745636\n",
      "Cross-validation score: 95.55773487629241%\n",
      "\n"
     ]
    }
   ],
   "source": [
    "from sklearn.model_selection import cross_val_score\n",
    "np.random.seed(42)\n",
    "C_values = [0.1, 1, 10, 100]\n",
    "for C in C_values:\n",
    "    print(f\"Trying model with C={C}\")\n",
    "    model = SVC(C=C).fit(X_train_tfidf, y_train)\n",
    "    print(f\"Model accuracy on test set: {model.score(X_test_tfidf, y_test)}\")\n",
    "    print(f\"Cross-validation score: {np.mean(cross_val_score(model, X_tfidf, y, cv=5)) * 100}%\")\n",
    "    print(\"\")"
   ]
  },
  {
   "cell_type": "markdown",
   "metadata": {},
   "source": [
    "# Đánh Giá:\n",
    "\n",
    "- Tăng độ chính xác: Độ chính xác trên tập kiểm tra tăng khi giá trị C tăng từ 0.1 đến 1.0.\n",
    "\n",
    "- Ổn định: Khi giá trị C tăng từ 1.0 đến 10.0 và từ 10.0 đến 100.0, độ chính xác trên tập kiểm tra giữ nguyên.\n",
    "\n",
    "- Hiệu suất tối ưu: Độ chính xác trên tập kiểm tra đã không tăng khi C tăng từ 10 đến 100. Điều này có thể gợi ý rằng mô hình đã đạt đến điểm tối ưu đối với giá trị C nằm trong khoảng 10-100."
   ]
  },
  {
   "cell_type": "code",
   "execution_count": 40,
   "metadata": {},
   "outputs": [],
   "source": [
    "param_grid = {'C': [0.1, 1, 10, 100], 'gamma': [1, 0.1, 0.01, 0.001], 'kernel': ['rbf']} "
   ]
  },
  {
   "cell_type": "code",
   "execution_count": 41,
   "metadata": {},
   "outputs": [],
   "source": [
    "from sklearn.model_selection import GridSearchCV\n",
    "grid = GridSearchCV(SVC(),param_grid,refit=True,verbose=4)"
   ]
  },
  {
   "cell_type": "code",
   "execution_count": 42,
   "metadata": {},
   "outputs": [
    {
     "name": "stdout",
     "output_type": "stream",
     "text": [
      "Fitting 5 folds for each of 16 candidates, totalling 80 fits\n",
      "[CV 1/5] END ........C=0.1, gamma=1, kernel=rbf;, score=0.861 total time=   0.1s\n",
      "[CV 2/5] END ........C=0.1, gamma=1, kernel=rbf;, score=0.861 total time=   0.1s\n",
      "[CV 3/5] END ........C=0.1, gamma=1, kernel=rbf;, score=0.864 total time=   0.1s\n",
      "[CV 4/5] END ........C=0.1, gamma=1, kernel=rbf;, score=0.871 total time=   0.1s\n",
      "[CV 5/5] END ........C=0.1, gamma=1, kernel=rbf;, score=0.856 total time=   0.1s\n",
      "[CV 1/5] END ......C=0.1, gamma=0.1, kernel=rbf;, score=0.743 total time=   0.1s\n",
      "[CV 2/5] END ......C=0.1, gamma=0.1, kernel=rbf;, score=0.750 total time=   0.1s\n",
      "[CV 3/5] END ......C=0.1, gamma=0.1, kernel=rbf;, score=0.757 total time=   0.1s\n",
      "[CV 4/5] END ......C=0.1, gamma=0.1, kernel=rbf;, score=0.744 total time=   0.1s\n",
      "[CV 5/5] END ......C=0.1, gamma=0.1, kernel=rbf;, score=0.749 total time=   0.1s\n",
      "[CV 1/5] END .....C=0.1, gamma=0.01, kernel=rbf;, score=0.705 total time=   0.1s\n",
      "[CV 2/5] END .....C=0.1, gamma=0.01, kernel=rbf;, score=0.705 total time=   0.1s\n",
      "[CV 3/5] END .....C=0.1, gamma=0.01, kernel=rbf;, score=0.705 total time=   0.1s\n",
      "[CV 4/5] END .....C=0.1, gamma=0.01, kernel=rbf;, score=0.705 total time=   0.1s\n",
      "[CV 5/5] END .....C=0.1, gamma=0.01, kernel=rbf;, score=0.704 total time=   0.1s\n",
      "[CV 1/5] END ....C=0.1, gamma=0.001, kernel=rbf;, score=0.705 total time=   0.1s\n",
      "[CV 2/5] END ....C=0.1, gamma=0.001, kernel=rbf;, score=0.705 total time=   0.1s\n",
      "[CV 3/5] END ....C=0.1, gamma=0.001, kernel=rbf;, score=0.705 total time=   0.1s\n",
      "[CV 4/5] END ....C=0.1, gamma=0.001, kernel=rbf;, score=0.705 total time=   0.1s\n",
      "[CV 5/5] END ....C=0.1, gamma=0.001, kernel=rbf;, score=0.704 total time=   0.0s\n",
      "[CV 1/5] END ..........C=1, gamma=1, kernel=rbf;, score=0.967 total time=   0.0s\n",
      "[CV 2/5] END ..........C=1, gamma=1, kernel=rbf;, score=0.955 total time=   0.0s\n",
      "[CV 3/5] END ..........C=1, gamma=1, kernel=rbf;, score=0.950 total time=   0.0s\n",
      "[CV 4/5] END ..........C=1, gamma=1, kernel=rbf;, score=0.961 total time=   0.0s\n",
      "[CV 5/5] END ..........C=1, gamma=1, kernel=rbf;, score=0.953 total time=   0.0s\n",
      "[CV 1/5] END ........C=1, gamma=0.1, kernel=rbf;, score=0.933 total time=   0.0s\n",
      "[CV 2/5] END ........C=1, gamma=0.1, kernel=rbf;, score=0.930 total time=   0.0s\n",
      "[CV 3/5] END ........C=1, gamma=0.1, kernel=rbf;, score=0.922 total time=   0.0s\n",
      "[CV 4/5] END ........C=1, gamma=0.1, kernel=rbf;, score=0.931 total time=   0.0s\n",
      "[CV 5/5] END ........C=1, gamma=0.1, kernel=rbf;, score=0.911 total time=   0.0s\n",
      "[CV 1/5] END .......C=1, gamma=0.01, kernel=rbf;, score=0.774 total time=   0.1s\n",
      "[CV 2/5] END .......C=1, gamma=0.01, kernel=rbf;, score=0.793 total time=   0.1s\n",
      "[CV 3/5] END .......C=1, gamma=0.01, kernel=rbf;, score=0.786 total time=   0.1s\n",
      "[CV 4/5] END .......C=1, gamma=0.01, kernel=rbf;, score=0.785 total time=   0.1s\n",
      "[CV 5/5] END .......C=1, gamma=0.01, kernel=rbf;, score=0.785 total time=   0.1s\n",
      "[CV 1/5] END ......C=1, gamma=0.001, kernel=rbf;, score=0.705 total time=   0.1s\n",
      "[CV 2/5] END ......C=1, gamma=0.001, kernel=rbf;, score=0.705 total time=   0.1s\n",
      "[CV 3/5] END ......C=1, gamma=0.001, kernel=rbf;, score=0.705 total time=   0.1s\n",
      "[CV 4/5] END ......C=1, gamma=0.001, kernel=rbf;, score=0.705 total time=   0.1s\n",
      "[CV 5/5] END ......C=1, gamma=0.001, kernel=rbf;, score=0.704 total time=   0.1s\n",
      "[CV 1/5] END .........C=10, gamma=1, kernel=rbf;, score=0.959 total time=   0.0s\n",
      "[CV 2/5] END .........C=10, gamma=1, kernel=rbf;, score=0.956 total time=   0.0s\n",
      "[CV 3/5] END .........C=10, gamma=1, kernel=rbf;, score=0.945 total time=   0.0s\n",
      "[CV 4/5] END .........C=10, gamma=1, kernel=rbf;, score=0.955 total time=   0.0s\n",
      "[CV 5/5] END .........C=10, gamma=1, kernel=rbf;, score=0.956 total time=   0.0s\n",
      "[CV 1/5] END .......C=10, gamma=0.1, kernel=rbf;, score=0.966 total time=   0.0s\n",
      "[CV 2/5] END .......C=10, gamma=0.1, kernel=rbf;, score=0.953 total time=   0.0s\n",
      "[CV 3/5] END .......C=10, gamma=0.1, kernel=rbf;, score=0.961 total time=   0.0s\n",
      "[CV 4/5] END .......C=10, gamma=0.1, kernel=rbf;, score=0.963 total time=   0.0s\n",
      "[CV 5/5] END .......C=10, gamma=0.1, kernel=rbf;, score=0.956 total time=   0.0s\n",
      "[CV 1/5] END ......C=10, gamma=0.01, kernel=rbf;, score=0.941 total time=   0.0s\n",
      "[CV 2/5] END ......C=10, gamma=0.01, kernel=rbf;, score=0.933 total time=   0.0s\n",
      "[CV 3/5] END ......C=10, gamma=0.01, kernel=rbf;, score=0.925 total time=   0.0s\n",
      "[CV 4/5] END ......C=10, gamma=0.01, kernel=rbf;, score=0.933 total time=   0.0s\n",
      "[CV 5/5] END ......C=10, gamma=0.01, kernel=rbf;, score=0.916 total time=   0.0s\n",
      "[CV 1/5] END .....C=10, gamma=0.001, kernel=rbf;, score=0.775 total time=   0.1s\n",
      "[CV 2/5] END .....C=10, gamma=0.001, kernel=rbf;, score=0.800 total time=   0.1s\n",
      "[CV 3/5] END .....C=10, gamma=0.001, kernel=rbf;, score=0.788 total time=   0.1s\n",
      "[CV 4/5] END .....C=10, gamma=0.001, kernel=rbf;, score=0.794 total time=   0.1s\n",
      "[CV 5/5] END .....C=10, gamma=0.001, kernel=rbf;, score=0.786 total time=   0.1s\n",
      "[CV 1/5] END ........C=100, gamma=1, kernel=rbf;, score=0.959 total time=   0.0s\n",
      "[CV 2/5] END ........C=100, gamma=1, kernel=rbf;, score=0.956 total time=   0.0s\n",
      "[CV 3/5] END ........C=100, gamma=1, kernel=rbf;, score=0.945 total time=   0.0s\n",
      "[CV 4/5] END ........C=100, gamma=1, kernel=rbf;, score=0.955 total time=   0.0s\n",
      "[CV 5/5] END ........C=100, gamma=1, kernel=rbf;, score=0.956 total time=   0.0s\n",
      "[CV 1/5] END ......C=100, gamma=0.1, kernel=rbf;, score=0.958 total time=   0.0s\n",
      "[CV 2/5] END ......C=100, gamma=0.1, kernel=rbf;, score=0.958 total time=   0.0s\n",
      "[CV 3/5] END ......C=100, gamma=0.1, kernel=rbf;, score=0.945 total time=   0.0s\n",
      "[CV 4/5] END ......C=100, gamma=0.1, kernel=rbf;, score=0.950 total time=   0.0s\n",
      "[CV 5/5] END ......C=100, gamma=0.1, kernel=rbf;, score=0.953 total time=   0.0s\n",
      "[CV 1/5] END .....C=100, gamma=0.01, kernel=rbf;, score=0.967 total time=   0.0s\n",
      "[CV 2/5] END .....C=100, gamma=0.01, kernel=rbf;, score=0.952 total time=   0.0s\n",
      "[CV 3/5] END .....C=100, gamma=0.01, kernel=rbf;, score=0.961 total time=   0.0s\n",
      "[CV 4/5] END .....C=100, gamma=0.01, kernel=rbf;, score=0.958 total time=   0.0s\n",
      "[CV 5/5] END .....C=100, gamma=0.01, kernel=rbf;, score=0.956 total time=   0.0s\n",
      "[CV 1/5] END ....C=100, gamma=0.001, kernel=rbf;, score=0.941 total time=   0.0s\n",
      "[CV 2/5] END ....C=100, gamma=0.001, kernel=rbf;, score=0.933 total time=   0.0s\n",
      "[CV 3/5] END ....C=100, gamma=0.001, kernel=rbf;, score=0.925 total time=   0.0s\n",
      "[CV 4/5] END ....C=100, gamma=0.001, kernel=rbf;, score=0.933 total time=   0.0s\n",
      "[CV 5/5] END ....C=100, gamma=0.001, kernel=rbf;, score=0.917 total time=   0.0s\n"
     ]
    },
    {
     "data": {
      "text/html": [
       "<style>#sk-container-id-2 {color: black;}#sk-container-id-2 pre{padding: 0;}#sk-container-id-2 div.sk-toggleable {background-color: white;}#sk-container-id-2 label.sk-toggleable__label {cursor: pointer;display: block;width: 100%;margin-bottom: 0;padding: 0.3em;box-sizing: border-box;text-align: center;}#sk-container-id-2 label.sk-toggleable__label-arrow:before {content: \"▸\";float: left;margin-right: 0.25em;color: #696969;}#sk-container-id-2 label.sk-toggleable__label-arrow:hover:before {color: black;}#sk-container-id-2 div.sk-estimator:hover label.sk-toggleable__label-arrow:before {color: black;}#sk-container-id-2 div.sk-toggleable__content {max-height: 0;max-width: 0;overflow: hidden;text-align: left;background-color: #f0f8ff;}#sk-container-id-2 div.sk-toggleable__content pre {margin: 0.2em;color: black;border-radius: 0.25em;background-color: #f0f8ff;}#sk-container-id-2 input.sk-toggleable__control:checked~div.sk-toggleable__content {max-height: 200px;max-width: 100%;overflow: auto;}#sk-container-id-2 input.sk-toggleable__control:checked~label.sk-toggleable__label-arrow:before {content: \"▾\";}#sk-container-id-2 div.sk-estimator input.sk-toggleable__control:checked~label.sk-toggleable__label {background-color: #d4ebff;}#sk-container-id-2 div.sk-label input.sk-toggleable__control:checked~label.sk-toggleable__label {background-color: #d4ebff;}#sk-container-id-2 input.sk-hidden--visually {border: 0;clip: rect(1px 1px 1px 1px);clip: rect(1px, 1px, 1px, 1px);height: 1px;margin: -1px;overflow: hidden;padding: 0;position: absolute;width: 1px;}#sk-container-id-2 div.sk-estimator {font-family: monospace;background-color: #f0f8ff;border: 1px dotted black;border-radius: 0.25em;box-sizing: border-box;margin-bottom: 0.5em;}#sk-container-id-2 div.sk-estimator:hover {background-color: #d4ebff;}#sk-container-id-2 div.sk-parallel-item::after {content: \"\";width: 100%;border-bottom: 1px solid gray;flex-grow: 1;}#sk-container-id-2 div.sk-label:hover label.sk-toggleable__label {background-color: #d4ebff;}#sk-container-id-2 div.sk-serial::before {content: \"\";position: absolute;border-left: 1px solid gray;box-sizing: border-box;top: 0;bottom: 0;left: 50%;z-index: 0;}#sk-container-id-2 div.sk-serial {display: flex;flex-direction: column;align-items: center;background-color: white;padding-right: 0.2em;padding-left: 0.2em;position: relative;}#sk-container-id-2 div.sk-item {position: relative;z-index: 1;}#sk-container-id-2 div.sk-parallel {display: flex;align-items: stretch;justify-content: center;background-color: white;position: relative;}#sk-container-id-2 div.sk-item::before, #sk-container-id-2 div.sk-parallel-item::before {content: \"\";position: absolute;border-left: 1px solid gray;box-sizing: border-box;top: 0;bottom: 0;left: 50%;z-index: -1;}#sk-container-id-2 div.sk-parallel-item {display: flex;flex-direction: column;z-index: 1;position: relative;background-color: white;}#sk-container-id-2 div.sk-parallel-item:first-child::after {align-self: flex-end;width: 50%;}#sk-container-id-2 div.sk-parallel-item:last-child::after {align-self: flex-start;width: 50%;}#sk-container-id-2 div.sk-parallel-item:only-child::after {width: 0;}#sk-container-id-2 div.sk-dashed-wrapped {border: 1px dashed gray;margin: 0 0.4em 0.5em 0.4em;box-sizing: border-box;padding-bottom: 0.4em;background-color: white;}#sk-container-id-2 div.sk-label label {font-family: monospace;font-weight: bold;display: inline-block;line-height: 1.2em;}#sk-container-id-2 div.sk-label-container {text-align: center;}#sk-container-id-2 div.sk-container {/* jupyter's `normalize.less` sets `[hidden] { display: none; }` but bootstrap.min.css set `[hidden] { display: none !important; }` so we also need the `!important` here to be able to override the default hidden behavior on the sphinx rendered scikit-learn.org. See: https://github.com/scikit-learn/scikit-learn/issues/21755 */display: inline-block !important;position: relative;}#sk-container-id-2 div.sk-text-repr-fallback {display: none;}</style><div id=\"sk-container-id-2\" class=\"sk-top-container\"><div class=\"sk-text-repr-fallback\"><pre>GridSearchCV(estimator=SVC(),\n",
       "             param_grid={&#x27;C&#x27;: [0.1, 1, 10, 100], &#x27;gamma&#x27;: [1, 0.1, 0.01, 0.001],\n",
       "                         &#x27;kernel&#x27;: [&#x27;rbf&#x27;]},\n",
       "             verbose=4)</pre><b>In a Jupyter environment, please rerun this cell to show the HTML representation or trust the notebook. <br />On GitHub, the HTML representation is unable to render, please try loading this page with nbviewer.org.</b></div><div class=\"sk-container\" hidden><div class=\"sk-item sk-dashed-wrapped\"><div class=\"sk-label-container\"><div class=\"sk-label sk-toggleable\"><input class=\"sk-toggleable__control sk-hidden--visually\" id=\"sk-estimator-id-4\" type=\"checkbox\" ><label for=\"sk-estimator-id-4\" class=\"sk-toggleable__label sk-toggleable__label-arrow\">GridSearchCV</label><div class=\"sk-toggleable__content\"><pre>GridSearchCV(estimator=SVC(),\n",
       "             param_grid={&#x27;C&#x27;: [0.1, 1, 10, 100], &#x27;gamma&#x27;: [1, 0.1, 0.01, 0.001],\n",
       "                         &#x27;kernel&#x27;: [&#x27;rbf&#x27;]},\n",
       "             verbose=4)</pre></div></div></div><div class=\"sk-parallel\"><div class=\"sk-parallel-item\"><div class=\"sk-item\"><div class=\"sk-label-container\"><div class=\"sk-label sk-toggleable\"><input class=\"sk-toggleable__control sk-hidden--visually\" id=\"sk-estimator-id-5\" type=\"checkbox\" ><label for=\"sk-estimator-id-5\" class=\"sk-toggleable__label sk-toggleable__label-arrow\">estimator: SVC</label><div class=\"sk-toggleable__content\"><pre>SVC()</pre></div></div></div><div class=\"sk-serial\"><div class=\"sk-item\"><div class=\"sk-estimator sk-toggleable\"><input class=\"sk-toggleable__control sk-hidden--visually\" id=\"sk-estimator-id-6\" type=\"checkbox\" ><label for=\"sk-estimator-id-6\" class=\"sk-toggleable__label sk-toggleable__label-arrow\">SVC</label><div class=\"sk-toggleable__content\"><pre>SVC()</pre></div></div></div></div></div></div></div></div></div></div>"
      ],
      "text/plain": [
       "GridSearchCV(estimator=SVC(),\n",
       "             param_grid={'C': [0.1, 1, 10, 100], 'gamma': [1, 0.1, 0.01, 0.001],\n",
       "                         'kernel': ['rbf']},\n",
       "             verbose=4)"
      ]
     },
     "execution_count": 42,
     "metadata": {},
     "output_type": "execute_result"
    }
   ],
   "source": [
    "grid.fit(X_train_tfidf,y_train)"
   ]
  },
  {
   "cell_type": "code",
   "execution_count": 43,
   "metadata": {},
   "outputs": [
    {
     "data": {
      "text/plain": [
       "{'C': 10, 'gamma': 0.1, 'kernel': 'rbf'}"
      ]
     },
     "execution_count": 43,
     "metadata": {},
     "output_type": "execute_result"
    }
   ],
   "source": [
    "grid.best_params_"
   ]
  },
  {
   "cell_type": "code",
   "execution_count": 44,
   "metadata": {},
   "outputs": [],
   "source": [
    "grid_predictions = grid.predict(X_test_tfidf)"
   ]
  },
  {
   "cell_type": "code",
   "execution_count": 45,
   "metadata": {},
   "outputs": [
    {
     "data": {
      "image/png": "[encoded data removed]",
      "text/plain": [
       "<Figure size 800x600 with 1 Axes>"
      ]
     },
     "metadata": {},
     "output_type": "display_data"
    }
   ],
   "source": [
    "plt.figure(figsize=(8, 6))\n",
    "cm = confusion_matrix(y_test, grid_predictions)\n",
    "sns.heatmap(cm, annot=True, fmt=\"d\", cmap=\"Blues\", cbar=False)\n",
    "plt.title(\"Confusion Matrix using Logistic Regression Classifier\")\n",
    "plt.xlabel(\"Predicted Labels\")\n",
    "plt.ylabel(\"True Labels\")\n",
    "plt.show()"
   ]
  },
  {
   "cell_type": "code",
   "execution_count": 46,
   "metadata": {},
   "outputs": [
    {
     "name": "stdout",
     "output_type": "stream",
     "text": [
      "              precision    recall  f1-score   support\n",
      "\n",
      "           0       0.95      0.91      0.93       185\n",
      "           1       0.97      0.99      0.98       617\n",
      "\n",
      "    accuracy                           0.97       802\n",
      "   macro avg       0.96      0.95      0.95       802\n",
      "weighted avg       0.97      0.97      0.97       802\n",
      "\n"
     ]
    }
   ],
   "source": [
    "print(classification_report(y_test, grid_predictions))"
   ]
  },
  {
   "cell_type": "code",
   "execution_count": null,
   "metadata": {},
   "outputs": [],
   "source": []
  },
  {
   "cell_type": "markdown",
   "metadata": {
    "id": "fuhHJmM6_xbd"
   },
   "source": [
    "`Sử dụng Decision Tree`"
   ]
  },
  {
   "cell_type": "code",
   "execution_count": 17,
   "metadata": {
    "colab": {
     "base_uri": "https://localhost:8080/"
    },
    "id": "4JslKFb13XwU",
    "outputId": "b0193043-faca-49a4-e1dc-573e12eeb47d"
   },
   "outputs": [
    {
     "name": "stdout",
     "output_type": "stream",
     "text": [
      "              precision    recall  f1-score   support\n",
      "\n",
      "           0    0.88947   0.91351   0.90133       185\n",
      "           1    0.97386   0.96596   0.96989       617\n",
      "\n",
      "    accuracy                        0.95387       802\n",
      "   macro avg    0.93166   0.93974   0.93561       802\n",
      "weighted avg    0.95439   0.95387   0.95408       802\n",
      "\n",
      "Precision score of using DecisionTreeClassifier model: 0.9316649466804265\n",
      "Recall score of using DecisionTreeClassifier model: 0.9397389285557842\n",
      "F1-score of using DecisionTreeClassifier model 0.9356137781394087\n"
     ]
    }
   ],
   "source": [
    "#4. Train a Decision Tree Classifier model\n",
    "tree_model = DecisionTreeClassifier()\n",
    "tree_model.fit(X_train_tfidf, y_train)\n",
    "\n",
    "# Predict on the test set\n",
    "y_pred = tree_model.predict(X_test_tfidf)\n",
    "\n",
    "# Evaluate the model\n",
    "print(classification_report(y_test, y_pred, digits = 5))\n",
    "print(\"Precision score of using DecisionTreeClassifier model:\", precision_score(y_test, y_pred, average='macro'))\n",
    "print(\"Recall score of using DecisionTreeClassifier model:\", recall_score(y_test, y_pred, average='macro'))\n",
    "print(\"F1-score of using DecisionTreeClassifier model\", f1_score(y_test, y_pred, average='macro'))\n",
    "\n",
    "# Generate confusion matrix\n",
    "cm = confusion_matrix(y_test, y_pred)\n"
   ]
  },
  {
   "cell_type": "code",
   "execution_count": 18,
   "metadata": {
    "colab": {
     "base_uri": "https://localhost:8080/",
     "height": 564
    },
    "id": "HFuEJuCJSMj0",
    "outputId": "dbc81bcb-4e77-4425-fa23-f3437a69c1d7"
   },
   "outputs": [
    {
     "data": {
      "image/png": "[encoded data removed]",
      "text/plain": [
       "<Figure size 800x600 with 1 Axes>"
      ]
     },
     "metadata": {},
     "output_type": "display_data"
    }
   ],
   "source": [
    "plt.figure(figsize=(8, 6))\n",
    "cm = confusion_matrix(y_test, y_pred)\n",
    "sns.heatmap(cm, annot=True, fmt=\"d\", cmap=\"Blues\", cbar=False)\n",
    "plt.title(\"Confusion Matrix using Decision Tree Classifier\")\n",
    "plt.xlabel(\"Predicted Labels\")\n",
    "plt.ylabel(\"True Labels\")\n",
    "plt.show()"
   ]
  },
  {
   "cell_type": "code",
   "execution_count": null,
   "metadata": {},
   "outputs": [],
   "source": []
  }
 ],
 "metadata": {
  "colab": {
   "provenance": [],
   "toc_visible": true
  },
  "kernelspec": {
   "display_name": "Python 3 (ipykernel)",
   "language": "python",
   "name": "python3"
  },
  "language_info": {
   "codemirror_mode": {
    "name": "ipython",
    "version": 3
   },
   "file_extension": ".py",
   "mimetype": "text/x-python",
   "name": "python",
   "nbconvert_exporter": "python",
   "pygments_lexer": "ipython3",
   "version": "3.11.5"
  }
 },
 "nbformat": 4,
 "nbformat_minor": 1
}
